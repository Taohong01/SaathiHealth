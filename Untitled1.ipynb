{
 "metadata": {
  "name": "",
  "signature": "sha256:f740de3cf29281f403df6b934364aa2f91a16b62a05c59d74258a8ab3a178fa2"
 },
 "nbformat": 3,
 "nbformat_minor": 0,
 "worksheets": [
  {
   "cells": [
    {
     "cell_type": "code",
     "collapsed": false,
     "input": [
      "from scipy import misc\n",
      "l = misc.lena()\n",
      "misc.imsave('lena.png', l) # uses the Image module (PIL)\n",
      "\n",
      "import matplotlib.pyplot as plt\n",
      "plt.imshow(l)\n",
      "plt.show()"
     ],
     "language": "python",
     "metadata": {},
     "outputs": [],
     "prompt_number": 1
    },
    {
     "cell_type": "code",
     "collapsed": false,
     "input": [
      "from scipy import misc\n",
      "lena = misc.imread('lena.png')\n",
      "print type(lena)\n",
      "\n",
      "print lena.shape, lena.dtype\n"
     ],
     "language": "python",
     "metadata": {},
     "outputs": [
      {
       "output_type": "stream",
       "stream": "stdout",
       "text": [
        "<type 'numpy.ndarray'>\n",
        "(512, 512) uint8\n"
       ]
      }
     ],
     "prompt_number": 2
    },
    {
     "cell_type": "code",
     "collapsed": false,
     "input": [
      "import numpy as np\n",
      "\n",
      "class Solution:\n",
      "    # @param S, a string\n",
      "    # @param T, a string\n",
      "    # @return an integer\n",
      "    def __init__(self, S='', T=''):\n",
      "        self.S = S\n",
      "        self.T = T\n",
      "        self.Slength = len(self.S)\n",
      "        \n",
      "        \n",
      "    def subSequence1stOrder(self, S):\n",
      "        \"\"\"Generating 1st Order subsequence of input string S \n",
      "        by subtracting one letter out of string S\n",
      "        \"\"\"\n",
      "        subSequenceList = []\n",
      "        #generate a letter list of S:\n",
      "        letterList = [letter for letter in S]\n",
      "        for index in range(0, len(S)-1):\n",
      "            subSeqStr1stOrder = \"\".join(letterList[0:index]+ letterList[(index+1):len(S)])\n",
      "            subSequenceList.append(subSeqStr1stOrder)    \n",
      "        return subSequenceList\n",
      "        \n",
      "    #def numDistinct(self, S, T):\n",
      "        \n",
      "        \n",
      "\n",
      "def main():\n",
      "    S='example_string'\n",
      "    T='ple'\n",
      "    SubF=Solution(S, T)\n",
      "    \n",
      "    print SubF.S\n",
      "    subSeqList = SubF.subSequence1stOrder(SubF.S)\n",
      "    print subSeqList\n",
      "    \n",
      "    print 'hello'\n",
      "    pass\n",
      "if __name__=='__main__':\n",
      "    main()"
     ],
     "language": "python",
     "metadata": {},
     "outputs": [
      {
       "output_type": "stream",
       "stream": "stdout",
       "text": [
        "example_string\n",
        "['xample_string', 'eample_string', 'exmple_string', 'exaple_string', 'examle_string', 'exampe_string', 'exampl_string', 'examplestring', 'example_tring', 'example_sring', 'example_sting', 'example_strng', 'example_strig']\n",
        "hello\n"
       ]
      }
     ],
     "prompt_number": 9
    },
    {
     "cell_type": "code",
     "collapsed": false,
     "input": [
      "def main():\n",
      "    print 'hello'\n",
      "    pass\n",
      "if __name__=='__main__':\n",
      "    main()\n",
      "    "
     ],
     "language": "python",
     "metadata": {},
     "outputs": [
      {
       "output_type": "stream",
       "stream": "stdout",
       "text": [
        "hello\n"
       ]
      }
     ],
     "prompt_number": 4
    },
    {
     "cell_type": "code",
     "collapsed": false,
     "input": [],
     "language": "python",
     "metadata": {},
     "outputs": []
    }
   ],
   "metadata": {}
  }
 ]
}